{
 "cells": [
  {
   "cell_type": "markdown",
   "metadata": {
    "collapsed": true,
    "pycharm": {
     "name": "#%% md\n"
    }
   },
   "source": [
    "# cjio API design\n"
   ]
  },
  {
   "cell_type": "code",
   "execution_count": 1,
   "outputs": [
    {
     "name": "stdout",
     "text": [
      "Version 2019-5-20\n"
     ],
     "output_type": "stream"
    }
   ],
   "source": [
    "from datetime import datetime\n",
    "i = datetime.now()\n",
    "print(\"Version {}-{}-{}\".format(i.year, i.month, i.day))\n"
   ],
   "metadata": {
    "collapsed": false,
    "pycharm": {
     "name": "#%%\n",
     "is_executing": false
    }
   }
  },
  {
   "cell_type": "markdown",
   "source": [
    "## Why?\n",
    "\n",
    "Let's take a look at the problems that I'm trying to solve with the API:\n",
    "\n",
    "1. *It is cumbersome to work with 3D city models in a Python script or program, partially because the data model is complex and libraries for parsing it don't really exist.* Why Python? Because in my opinion 3D city models should be similarly easy to work with as other data models/formats in the analysis pipeline. Python is one of the most common scripting languages for data analysis, which includes GIS. Also this is the language that we teach to our students at the Geomatics MSc.\n",
    "\n",
    "  + Luckily we have CityJSON already, which simplifies the data model part considerably. Also cjio works well in the command line. But in my experience, and according to a few other people, it would be handy to have a python library that allows to easily operate on a 3D city model. I'm heavily influenced by the *tidyverse* ecosystem in R, and also by the *pandas*, *scikit-learn* libraries in python. Thus in my head, cjio would allow to work with data as easily as these packages do, and also integrate with them.\n",
    "  \n",
    "## What has been done already?\n",
    "\n",
    "When I started, cjio already had a well developed CLI. The idea is to expose the same functionality through an API, and also to provide and object-based interface to CityJSON.\n",
    "\n",
    "Also there is [citygson](https://github.com/citygml4j/citygson), a Gson based library for parsing and serializing CityJSON. This is a Java library.\n",
    "\n",
    "## The API\n",
    "\n",
    "I approach the API design from the workflow that I aim at. As in **data preparation**, which entails reading a city model into python in a way that it becomes easy to work with each CityObject individually. Then **feature generation**, which is computing any measures, statistics from the CityObjects which can be fed into an analysis process.\n",
    "\n",
    "### 1. Data preparation\n",
    "\n",
    "#### CityObject types\n",
    "\n",
    "A cityobject with children.\n"
   ],
   "metadata": {
    "collapsed": false,
    "pycharm": {
     "name": "#%% md\n"
    }
   }
  },
  {
   "cell_type": "code",
   "execution_count": 2,
   "outputs": [],
   "source": [
    "co_1 = {\n",
    "\"CityObjects\": {\n",
    "  \"id-1\": {\n",
    "    \"type\": \"Building\",\n",
    "    \"geographicalExtent\": [ 84710.1, 446846.0, -5.3, 84757.1, 446944.0, 40.9 ], \n",
    "    \"attributes\": { \n",
    "      \"measuredHeight\": 22.3,\n",
    "      \"roofType\": \"gable\",\n",
    "      \"owner\": \"Elvis Presley\"\n",
    "    },\n",
    "    \"children\": [\"id-2\"],\n",
    "    \"geometry\": [{...}]\n",
    "  },\n",
    "  \"id-2\": {\n",
    "    \"type\": \"BuildingPart\", \n",
    "    \"parents\": [\"id-1\"],\n",
    "    \"children\": [\"id-3\"]\n",
    "  },\n",
    "  \"id-3\": {\n",
    "    \"type\": \"BuildingInstallation\", \n",
    "    \"parents\": [\"id-2\"]\n",
    "  },\n",
    "  \"id-4\": {\n",
    "    \"type\": \"LandUse\"\n",
    "  }\n",
    "}\n",
    "}"
   ],
   "metadata": {
    "collapsed": false,
    "pycharm": {
     "name": "#%%\n",
     "is_executing": false
    }
   }
  },
  {
   "cell_type": "markdown",
   "source": [
    "Using a single getter function, and pass the type as argument. It should get both 1st-level and 2nd-level city objects. But in case of 2nd-level objects, how do we keep the reference to the parents?\n"
   ],
   "metadata": {
    "collapsed": false,
    "pycharm": {
     "name": "#%% md\n"
    }
   }
  },
  {
   "cell_type": "code",
   "source": [
    "def get_cityobjects(type):\n",
    "    \"\"\"Return a generator over the CityObjects of the given type. Type can be 1st-level or 2nd-level CityObject.\"\"\"\n",
    "    if type is None:\n",
    "        yield all cityobjects\n",
    "    else:\n",
    "        yield cityobjects of the given type\n",
    "\n",
    "def get_children():\n",
    "    if cityobject has children:\n",
    "        yield list of children\n",
    "    else:\n",
    "        yield list()\n",
    "\n",
    "def get_parents():\n",
    "    if cityobject has parents:\n",
    "        yield list of parents\n",
    "    else:\n",
    "        yield list()\n",
    "\n",
    "cm = cjio.load(\"some_model.json\")\n",
    "buildings = cm.get_cityobjects(\"building\")\n",
    "for building in buildings:\n",
    "    children = building.get_children()\n",
    "\n",
    "buildingparts = cm.get_cityobjects(\"buildingpart\")\n",
    "for part in buildingparts:\n",
    "    part.get_children()\n",
    "    part.get_parents()\n"
   ],
   "metadata": {
    "collapsed": false,
    "pycharm": {
     "name": "#%%\n"
    }
   },
   "execution_count": null,
   "outputs": []
  },
  {
   "cell_type": "markdown",
   "source": [
    "Or for instance, sth like this should get the roof geometry of a building, provided that surfaces have semantics.\n"
   ],
   "metadata": {
    "collapsed": false
   }
  },
  {
   "cell_type": "code",
   "execution_count": null,
   "outputs": [],
   "source": [
    "cm = cjio.load(\"some_model.json\")\n",
    "building_1 = cm.building.get(1)\n",
    "roof_geom = building_1.roofsurface.geometry\n"
   ],
   "metadata": {
    "collapsed": false,
    "pycharm": {
     "name": "#%%\n"
    }
   }
  },
  {
   "cell_type": "markdown",
   "source": [
    "Get footprints, wall, roofs from LoD1 AND LoD2\n",
    "\n",
    "How to work with a 3d model and its pointcloud?\n",
    "\n",
    "#### Working with semantics\n"
   ],
   "metadata": {
    "collapsed": false,
    "pycharm": {
     "name": "#%% md\n"
    }
   }
  },
  {
   "cell_type": "code",
   "execution_count": null,
   "outputs": [],
   "source": [
    "class Geometry(object):\n",
    "    def __init__(self, co):\n",
    "        self.lod = co['geometry']['lod']\n",
    "        self.type = co['geometry']['type']\n",
    "        self.boundaries = list(Boundary(co))\n",
    "        # also need to handle surface semantics here somewhere\n",
    "        self.semantics = self._get_semantics(co)\n",
    "        \n",
    "    def _get_semantics(self, co):\n",
    "        \"\"\"Return a set of semantic surfaces that the CityObject has\"\"\"\n",
    "        return set([sem['type'] for sem in co['geometry']['semantics']['surfaces']])\n",
    "\n",
    "class SemanticSurface(object):\n",
    "    def __init__(self):\n",
    "        self.type = \"RoofSurface\"\n",
    "        self.children = List[int]\n",
    "        self.parent = int\n",
    "        self.attributes = dict()\n",
    "        self.boundaries = Boundary() \n",
    "    \n",
    "    def _get_geometry(self):\n",
    "        \"\"\"Get the geometry of the surface\"\"\"\n",
    "        # this might duplicate the geometry, because the full geometry is already exists, dereferenced in the parent Geometry object\n",
    "        extract the related parts of the CityObject geometry\n",
    "\n",
    "class Boundary(object):\n",
    "    def __init__(self,co):\n",
    "        self.vertices = list(of the veritces) # no need to duplicate these, enough to extract from the geometry\n",
    "        self.geom = self._get_geometry(co)\n",
    "        \n",
    "    def _get_geometry(self, co):\n",
    "        loop through co['geometry']['boundaries'] and dereference the geometry\n",
    "        return geometry sf style\n",
    "\n",
    "cm = cjio.load(\"some_model.json\")\n",
    "for building in cm.get_cityobjects(\"building\"):\n",
    "    # so, what exactly does this geometry object contain? For now, we only return the Geometry object from JSON as it is. The same as cm['CityObjects'][0]['geometry']. Later we can think about converting the json to something.\n",
    "    geometry = building.get_geometry()\n",
    "    isinstance(geometry, Geometry)\n",
    "    geometry.lod\n",
    "    geometry.type\n",
    "    geometry.boundaries # I think we should return the boundaries simple feature style, verticies included. It makes it much easier to operate on it.    \n",
    "    # or just dump all the vertices of the geometry as [(x,y,z),(x,y,z),...]\n",
    "    vertices = building.get_vertices()\n",
    "    \n",
    "    roofs = building.get_surfaces('roofsurface')\n",
    "    walls = building.get_surfaces('wallsurface')\n",
    "    grounds = building.get_surfaces('groundsurface')\n",
    "    for roof in roofs:\n",
    "        geometry = roof.geometry\n",
    "        geometry.boundaries\n",
    "        roof.type\n",
    "        roof.attributes\n",
    "        children = roof.get_children()\n",
    "        \n",
    "cm = cjio.load(\"some_model.json\")\n",
    "for building in cm.get_cityobjects(\"building\"):\n",
    "    # so, what exactly does this geometry object contain? For now, we only return the Geometry object from JSON as it is. The same as cm['CityObjects'][0]['geometry']. Later we can think about converting the json to something.\n",
    "    geometry = building.get_geometry()\n",
    "    isinstance(geometry, Geometry)\n",
    "    geometry.lod\n",
    "    geometry.type\n",
    "    geometry.boundaries # I think we should return the boundaries simple feature style, verticies included. It makes it much easier to operate on it.    \n",
    "    # or just dump all the vertices of the geometry as [(x,y,z),(x,y,z),...]\n",
    "    vertices = building.get_vertices()\n",
    "    \n",
    "    geometry.semantics\n",
    "    roofs = geometry.get_surface('roofsurface')\n"
   ],
   "metadata": {
    "collapsed": false,
    "pycharm": {
     "name": "#%%\n"
    }
   }
  },
  {
   "cell_type": "markdown",
   "source": [
    "\n",
    "### 2. Feature generation\n",
    "\n",
    "How do we operate with 3D geometry? Do we cast to something from some library that has 3D geom? Or just provide getters for the vertices?\n",
    "\n",
    "Python libraries with 3D geoms:\n",
    "\n",
    "+ [open3d](http://www.open3d.org/docs/python_api/open3d.geometry.Geometry3D.html#open3d.geometry.Geometry3D)\n",
    "\n",
    "#### Compute the volume of a building.\n"
   ],
   "metadata": {
    "collapsed": false,
    "pycharm": {
     "name": "#%% md\n"
    }
   }
  },
  {
   "cell_type": "code",
   "execution_count": null,
   "outputs": [],
   "source": [
    "class Geometry:\n",
    "    def __init__(self, co):\n",
    "        self.lod = co['geometry']['lod']\n",
    "        self.type = co['geometry']['type']\n",
    "        self.boundaries = self._get_boundary(co)\n",
    "    \n",
    "    def _get_geometry(self, co):\n",
    "        loop through co['geometry']['boundaries'] and get the vertex coordinates\n",
    "        return geometry sf style\n",
    "\n",
    "def compute_volume(geometry):\n",
    "    if geometry.boundaries is empty:\n",
    "        return 0\n",
    "    if geometry.lod < 2:\n",
    "        figure out what surface is what\n",
    "    else:\n",
    "        use the surface semantics \n",
    "    if geometry.type == 'Solid':\n",
    "        compute the volume\n",
    "    elif geometry.type == 'Point':\n",
    "        raise TypeError(\"Cannot compute the volume of Point geometry\")\n",
    "    return volume\n",
    "\n",
    "cm = cjio.load(\"some_model.json\")\n",
    "for building in cm.get_cityobjects(\"building\"):\n",
    "    # we need to check if the parent has geometry, but also if the child has geometry, because it is not prescribed how this should be\n",
    "    geometry = building.get_geometry()\n",
    "    volume_parent = compute_volume(geometry)\n",
    "    \n",
    "    for child in building.get_children():\n",
    "    # actually, we need to do this recursively in order to visit the children of children too, because it is\n",
    "    # not defined how many level deep we need to go\n",
    "        geometry = child.get_geometry()\n",
    "        volume_child = compute_volume(geometry)\n",
    "        \n",
    "    volume = volume_parent + volume_child\n"
   ],
   "metadata": {
    "collapsed": false,
    "pycharm": {
     "name": "#%%\n"
    }
   }
  },
  {
   "cell_type": "markdown",
   "source": [
    "Get shape descriptors from the footrpints\n",
    "\n",
    "Compute roof overhang as a distance between footprint and roofprint\n",
    "\n",
    "Compute roof levels and roof types\n",
    "\n",
    "(compare model to point cloud)\n",
    "\n",
    "**!!! the most important software feature here is to allow the users to easily integrate their own cityobject/geometry processing functions with cjio !!!**\n",
    "\n",
    "### 3. Export\n",
    "\n",
    "Save cityobject attributes in tabular format (eg. tsv)\n",
    "\n",
    "Save cityobject attributes in pandas dataframe\n",
    "\n",
    "### 4. ML\n",
    "\n",
    "Use the tabular output as input for scikit-learn (or any library). One can use `feather` to transport the objects to R."
   ],
   "metadata": {
    "collapsed": false,
    "pycharm": {
     "name": "#%% md\n"
    }
   }
  }
 ],
 "metadata": {
  "language_info": {
   "codemirror_mode": {
    "name": "ipython",
    "version": 2
   },
   "file_extension": ".py",
   "mimetype": "text/x-python",
   "name": "python",
   "nbconvert_exporter": "python",
   "pygments_lexer": "ipython2",
   "version": "2.7.6"
  },
  "kernelspec": {
   "name": "python3",
   "language": "python",
   "display_name": "Python 3"
  },
  "pycharm": {
   "stem_cell": {
    "cell_type": "raw",
    "source": [],
    "metadata": {
     "collapsed": false
    }
   }
  }
 },
 "nbformat": 4,
 "nbformat_minor": 0
}