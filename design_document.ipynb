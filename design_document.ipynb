{
 "cells": [
  {
   "cell_type": "markdown",
   "metadata": {
    "collapsed": true,
    "pycharm": {
     "name": "#%% md\n"
    }
   },
   "source": [
    "# cjio API design\n"
   ]
  },
  {
   "cell_type": "code",
   "execution_count": 1,
   "outputs": [
    {
     "name": "stdout",
     "text": [
      "Version 2019-5-20\n"
     ],
     "output_type": "stream"
    }
   ],
   "source": [
    "from datetime import datetime\n",
    "i = datetime.now()\n",
    "print(\"Version {}-{}-{}\".format(i.year, i.month, i.day))"
   ],
   "metadata": {
    "collapsed": false,
    "pycharm": {
     "name": "#%%\n",
     "is_executing": false
    }
   }
  },
  {
   "cell_type": "markdown",
   "source": [
    "## Why?\n",
    "\n",
    "Let's take a look at the problems that I'm trying to solve with the API:\n",
    "\n",
    "1. *It is cumbersome to work with 3D city models in a Python script or program, partially because the data model is complex and libraries for parsing it don't really exist.* Why Python? Because in my opinion 3D city models should be similarly easy to work with as other data models/formats in the analysis pipeline. Python is one of the most common scripting languages for data analysis, which includes GIS. Also this is the language that we teach to our students at the Geomatics MSc.\n",
    "\n",
    "  + Luckily we have CityJSON already, which simplifies the data model part considerably. Also cjio works well in the command line. But in my experience, and according to a few other people, it would be handy to have a python library that allows to easily operate on a 3D city model. I'm heavily influenced by the *tidyverse* ecosystem in R, and also by the *pandas*, *scikit-learn* libraries in python. Thus in my head, cjio would allow to work with data as easily as these packages do, and also integrate with them.\n",
    "  \n",
    "## What has been done already?\n",
    "\n",
    "When I started, cjio already had a well developed CLI. The idea is to expose the same functionality through an API, and also to provide and object-based interface to CityJSON.\n",
    "\n",
    "Also there is [citygson](https://github.com/citygml4j/citygson), a Gson based library for parsing and serializing CityJSON. This is a Java library.\n",
    "\n",
    "## The API\n",
    "\n",
    "I approach the API design from the workflow that I aim at. As in **data preparation**, which entails reading a city model into python in a way that it becomes easy to work with each CityObject individually. Then **feature generation**, which is computing any measures, statistics from the CityObjects which can be fed into an analysis process.\n",
    "\n",
    "### 1. Data preparation\n"
   ],
   "metadata": {
    "collapsed": false,
    "pycharm": {
     "name": "#%% md\n"
    }
   }
  },
  {
   "cell_type": "markdown",
   "source": [
    "#### Some requirements, ideas\n",
    "+ Get footprints, wall, roofs from LoD1 AND LoD2\n",
    "\n",
    "+ How to work with a 3d model and its pointcloud?\n",
    "\n",
    "#### CityObject types\n",
    "\n",
    "A cityobject with children.\n"
   ],
   "metadata": {
    "collapsed": false
   }
  },
  {
   "cell_type": "code",
   "execution_count": 2,
   "outputs": [],
   "source": [
    "co_1 = {\n",
    "\"CityObjects\": {\n",
    "  \"id-1\": {\n",
    "    \"type\": \"Building\",\n",
    "    \"geographicalExtent\": [ 84710.1, 446846.0, -5.3, 84757.1, 446944.0, 40.9 ], \n",
    "    \"attributes\": { \n",
    "      \"measuredHeight\": 22.3,\n",
    "      \"roofType\": \"gable\",\n",
    "      \"owner\": \"Elvis Presley\"\n",
    "    },\n",
    "    \"children\": [\"id-2\"],\n",
    "    \"geometry\": [{...}]\n",
    "  },\n",
    "  \"id-2\": {\n",
    "    \"type\": \"BuildingPart\", \n",
    "    \"parents\": [\"id-1\"],\n",
    "    \"children\": [\"id-3\"]\n",
    "  },\n",
    "  \"id-3\": {\n",
    "    \"type\": \"BuildingInstallation\", \n",
    "    \"parents\": [\"id-2\"]\n",
    "  },\n",
    "  \"id-4\": {\n",
    "    \"type\": \"LandUse\"\n",
    "  }\n",
    "}\n",
    "}"
   ],
   "metadata": {
    "collapsed": false,
    "pycharm": {
     "name": "#%%\n",
     "is_executing": false
    }
   }
  },
  {
   "cell_type": "markdown",
   "source": [
    "Using a single getter function, and pass the type as argument. It should get both 1st-level and 2nd-level city objects. But in case of 2nd-level objects, how do we keep the reference to the parents?\n"
   ],
   "metadata": {
    "collapsed": false,
    "pycharm": {
     "name": "#%% md\n"
    }
   }
  },
  {
   "cell_type": "code",
   "source": [
    "def get_cityobjects(type):\n",
    "    \"\"\"Return a generator over the CityObjects of the given type. Type can be 1st-level or 2nd-level CityObject.\"\"\"\n",
    "    if type is None:\n",
    "        yield all cityobjects\n",
    "    else:\n",
    "        yield cityobjects of the given type\n",
    "\n",
    "def get_children():\n",
    "    if cityobject has children:\n",
    "        yield list of children\n",
    "    else:\n",
    "        yield list()\n",
    "\n",
    "def get_parents():\n",
    "    if cityobject has parents:\n",
    "        yield list of parents\n",
    "    else:\n",
    "        yield list()\n",
    "\n",
    "cm = cjio.load(\"some_model.json\")\n",
    "buildings = cm.get_cityobjects(\"building\")\n",
    "for building in buildings:\n",
    "    children = building.get_children()\n",
    "\n",
    "buildingparts = cm.get_cityobjects(\"buildingpart\")\n",
    "for part in buildingparts:\n",
    "    part.get_children()\n",
    "    part.get_parents()"
   ],
   "metadata": {
    "collapsed": false,
    "pycharm": {
     "name": "#%% script false\n"
    }
   },
   "execution_count": null,
   "outputs": []
  },
  {
   "cell_type": "markdown",
   "source": [
    "#### Working with semantics\n",
    "\n",
    "The initial idea for getting semantic surfaces was like this below. But I think it makes a cleaner API if we have a semantic surface getter method and we pass the surface type as parameter.\n"
   ],
   "metadata": {
    "collapsed": false,
    "pycharm": {
     "name": "#%% md\n"
    }
   }
  },
  {
   "cell_type": "code",
   "execution_count": null,
   "outputs": [],
   "source": [
    "cm = cjio.load(\"some_model.json\")\n",
    "building_1 = cm.building.get(1)\n",
    "roof_geom = building_1.roofsurface.geometry"
   ],
   "metadata": {
    "collapsed": false,
    "pycharm": {
     "name": "#%% script false\n"
    }
   }
  },
  {
   "cell_type": "markdown",
   "source": [
    "Let's make some test data. The idea is to test how can we link the semantic object to the geometry boundaries and its parts. Below is a Geometry `g` with a boundary that is composed of a composite solid and a solid. Also, the Semantic Surface `sa` which relates to the surfaces of the solids.\n"
   ],
   "metadata": {
    "collapsed": false,
    "pycharm": {
     "name": "#%% md\n"
    }
   }
  },
  {
   "cell_type": "code",
   "execution_count": 5,
   "outputs": [],
   "source": [
    "# a composite solid and a solid\n",
    "g = [\n",
    "    [\n",
    "        [\n",
    "            [[0, 3, 2, 1, 22]], [[4, 5, 6, 7]], [[0, 1, 5, 4]], [[1, 2, 6, 5]]\n",
    "        ],\n",
    "        [\n",
    "            [[240, 243, 124]], [[244, 246, 724]], [[34, 414, 45]], [[111, 246, 5]]\n",
    "        ]\n",
    "    ],\n",
    "    [\n",
    "        [[[666, 667, 668]], [[74, 75, 76]], [[880, 881, 885]], [[111, 122, 226]]]\n",
    "    ]\n",
    "]\n",
    "\n",
    "# semantic surface object\n",
    "sa = {\n",
    "     \"surfaces\" : [\n",
    "         {\n",
    "             \"type\": \"WallSurface\",\n",
    "             \"slope\": 33.4,\n",
    "             \"children\": [2]\n",
    "         },\n",
    "         {\n",
    "             \"type\": \"RoofSurface\",\n",
    "             \"slope\": 66.6\n",
    "         },\n",
    "         {\n",
    "             \"type\": \"Door\",\n",
    "             \"parent\": 0,\n",
    "             \"colour\": \"blue\"\n",
    "         }\n",
    "     ],\n",
    "     \"values\": [\n",
    "       [ [0, 1, 2, None], [0, 1, 2, None]],\n",
    "       [ None ]\n",
    "     ]\n",
    "}"
   ],
   "metadata": {
    "collapsed": false,
    "pycharm": {
     "name": "#%%\n",
     "is_executing": false
    }
   }
  },
  {
   "cell_type": "markdown",
   "source": [
    "\n",
    "Here we have a `Boundary` class and a `Geometry` class. The main idea is that `SemanticSurface`-es do not get their own class, thus we don't create objects from them. All the semantic information is stored in the Geometry object and the surfaces with semantics are simply extracted on request with the `Geometry.get_surfaces()` method. Here we implement the exact same indexing mechanism as in the data model.\n",
    "\n",
    "The `Boundary` class simply stores the geometry boundary as it is stored in CityJSON. In the future its possible to implement \"real\" geometric object from some library if we find one, however in python not many exists. It is still an open question whether we should dereference the boundary and store the geometries Simple Feature-style, *or* keep a vertex list and use indices. But if we use the SF-style geometries, it's much easier to operate on them for the user, since they are self-contained, no need to look for the coordinates.\n"
   ],
   "metadata": {
    "collapsed": false,
    "pycharm": {
     "name": "#%% md\n"
    }
   }
  },
  {
   "cell_type": "code",
   "execution_count": 2,
   "outputs": [],
   "source": [
    "from typing import List, Dict\n",
    "from copy import deepcopy\n",
    "\n",
    "class Boundary(object):\n",
    "    \"\"\"CityJSON Geometry boundary\n",
    "\n",
    "    .. note:: For now it holds the boundary as it is in the CityJSON file.\n",
    "    In the future this class could implement real 3D geometric\n",
    "    objects.\n",
    "    \"\"\"\n",
    "\n",
    "    def __init__(self, vertices: List=list(), geom: List=list()):\n",
    "        self.vertices = vertices\n",
    "        self.geometry = geom\n",
    "\n",
    "    # If we use a 'property' instead of a plain attribute we\n",
    "    # can implement validation in the setter/getter/deleter methods\n",
    "    # Also, we can later change the logic of the geometry property\n",
    "    # without changing the interface, thus no regression.\n",
    "    @property\n",
    "    def geometry(self):\n",
    "        \"\"\"A nested array of vertex indices\"\"\"\n",
    "        return self.__geometry\n",
    "\n",
    "    @geometry.setter\n",
    "    def geometry(self, geom: List):\n",
    "        # we could do validation here\n",
    "        if not isinstance(geom, list):\n",
    "            raise TypeError(\"geometry must be a list\")\n",
    "        else:\n",
    "            self.__geometry = geom\n",
    "\n",
    "    @geometry.deleter\n",
    "    def geometry(self):\n",
    "        self.__geometry = list()\n",
    "\n",
    "\n",
    "class Geometry(object):\n",
    "    \"\"\"CityJSON Geometry object\n",
    "\n",
    "    .. seealso:: :class:`Boundary`\n",
    "    \"\"\"\n",
    "\n",
    "    def __init__(self, type: str=None, lod: int=None, boundaries: List=None, semantics_obj: Dict=None):\n",
    "        self.type = type\n",
    "        self.lod = lod\n",
    "        self.boundaries = boundaries\n",
    "        self.semantics_obj = semantics_obj\n",
    "\n",
    "    @property\n",
    "    def semantics(self):\n",
    "        \"\"\"The Semantic Surface types in the Geometry\"\"\"\n",
    "        return (s['type'] for s in self.semantics_obj['surfaces'])\n",
    "\n",
    "    def get_surfaces(self, type=None):\n",
    "        \"\"\"The surfaces in the boundaries that have semantics\"\"\"\n",
    "        sfc = []\n",
    "        if self.type != 'CompositeSolid':\n",
    "            raise NotImplementedError(\"sorry, only CompositeSolid works\")\n",
    "        else:\n",
    "            # TODO: check if faster with generators\n",
    "            for i, solid in enumerate(self.semantics_obj['values']):\n",
    "                if solid:\n",
    "                    for j, shell in enumerate(solid):\n",
    "                        if shell:\n",
    "                            for k, surface in enumerate(shell):\n",
    "                                if surface is not None:\n",
    "                                    if type:\n",
    "                                        if type.lower() == self.semantics_obj['surfaces'][surface]['type'].lower():\n",
    "                                            sfc.append(self.boundaries.geometry[i][j][k])\n",
    "                                    else:\n",
    "                                        sfc.append(self.boundaries.geometry[i][j][k])\n",
    "        return sfc"
   ],
   "metadata": {
    "collapsed": false,
    "pycharm": {
     "name": "#%%\n",
     "is_executing": false
    }
   }
  },
  {
   "cell_type": "markdown",
   "source": [
    "Since the geometry boundary is a property not a boundary, we can implement custom getters/setters/deleters, thus when we delete the boundary the property is set to an empty list instead of `None`. Its seems to be a just a niceity for now, might be more useful later.\n"
   ],
   "metadata": {
    "collapsed": false,
    "pycharm": {
     "name": "#%% md\n"
    }
   }
  },
  {
   "cell_type": "code",
   "execution_count": 6,
   "outputs": [
    {
     "name": "stdout",
     "text": [
      "<class 'list'>\n"
     ],
     "output_type": "stream"
    }
   ],
   "source": [
    "b = Boundary()\n",
    "b.geometry\n",
    "b.geometry = deepcopy(g)\n",
    "del b.geometry\n",
    "print(type(b.geometry))"
   ],
   "metadata": {
    "collapsed": false,
    "pycharm": {
     "name": "#%%\n",
     "is_executing": false
    }
   }
  },
  {
   "cell_type": "code",
   "execution_count": 7,
   "outputs": [
    {
     "name": "stdout",
     "text": [
      "True\nTrue\n"
     ],
     "output_type": "stream"
    }
   ],
   "source": [
    "comp_solid = Geometry(type=\"CompositeSolid\",\n",
    "                      lod=2,\n",
    "                      boundaries=Boundary(geom=deepcopy(g)),\n",
    "                      semantics_obj=deepcopy(sa)\n",
    "                      )\n",
    "\n",
    "# test semantics property\n",
    "print(list(comp_solid.semantics) == ['WallSurface', 'RoofSurface', 'Door'])\n",
    "# test get_surfaces method\n",
    "print(comp_solid.get_surfaces('roofsurface') == [ [[4, 5, 6, 7]],[[244, 246, 724]] ])"
   ],
   "metadata": {
    "collapsed": false,
    "pycharm": {
     "name": "#%%\n",
     "is_executing": false
    }
   }
  },
  {
   "cell_type": "markdown",
   "source": [
    "Then this is more or less how the chain of working with semantic surfaces would look like.\n"
   ],
   "metadata": {
    "collapsed": false,
    "pycharm": {
     "name": "#%% md\n"
    }
   }
  },
  {
   "cell_type": "code",
   "execution_count": null,
   "outputs": [],
   "source": [
    "cm = cjio.load(\"some_model.json\")\n",
    "for building in cm.get_cityobjects(\"building\"):\n",
    "    geometry = building.geometry\n",
    "    isinstance(geometry, Geometry)\n",
    "    geometry.lod\n",
    "    geometry.type\n",
    "    # return the complete boundary of a single CityObject\n",
    "    geometry.boundaries\n",
    "    # return all the vertices of the boundary\n",
    "    geometry.boundaries.vertices"
   ],
   "metadata": {
    "collapsed": false,
    "pycharm": {
     "name": "#%% script false\n"
    }
   }
  },
  {
   "cell_type": "markdown",
   "source": [
    "Okay, but if we don't have a SemanticSuface class, it won't be possible to get the children and parents of a particular Semantic Surface like below.\n"
   ],
   "metadata": {
    "collapsed": false,
    "pycharm": {
     "name": "#%% md\n"
    }
   }
  },
  {
   "cell_type": "code",
   "execution_count": null,
   "outputs": [],
   "source": [
    "roofs = building.get_surfaces('roofsurface')\n",
    "walls = building.get_surfaces('wallsurface')\n",
    "grounds = building.get_surfaces('groundsurface')\n",
    "for roof in roofs:\n",
    "    geometry = roof.geometry\n",
    "    geometry.boundaries\n",
    "    roof.type\n",
    "    roof.attributes\n",
    "    roof.children\n",
    "    roof.parents"
   ],
   "metadata": {
    "collapsed": false,
    "pycharm": {
     "name": "#%% script false\n"
    }
   }
  },
  {
   "cell_type": "markdown",
   "source": [
    "**Vertex list for Boundary definition**\n",
    "\n",
    "One alternative for storing boundaries would be to keep a \"central\" vertex list and the Boundary objects would only store the pointers to the vertices in the list. Exactly as it is defined in the CityJSON data model. The way I know how to solve this is to store the vertex list in a CityModel class, and the Geometry/Boundary classes would its subclass. This way a Boundary instance can access the CityModel vertices attribute.\n",
    "\n",
    "Something like this below. If we have the vertices as a property or not, doesn't matter much.\n"
   ],
   "metadata": {
    "collapsed": false,
    "pycharm": {
     "name": "#%% md\n"
    }
   }
  },
  {
   "cell_type": "code",
   "execution_count": null,
   "outputs": [],
   "source": [
    "class CityModel(object):\n",
    "    \"\"\"Equivalent to the main CityJSON object in the data model\"\"\"\n",
    "    type = 'CityJSON'\n",
    "    cityjson_version = '1.0'\n",
    "\n",
    "    def __init__(self, cityobjects, vtx):\n",
    "        self.cityobjects = cityobjects\n",
    "        self.vertices = vtx\n",
    "\n",
    "    @property\n",
    "    def vertices(self):\n",
    "        return self._vertices\n",
    "\n",
    "    @vertices.setter\n",
    "    def vertices(self, vtx):\n",
    "        self._vertices = vtx\n",
    "\n",
    "class Boundary(CityModel):\n",
    "    \"\"\"CityJSON Geometry boundary\"\"\"\n",
    "    def __init__(self, geom: List=list()):\n",
    "        self.geometry = geom\n",
    "\n",
    "    def get_geometry(self):\n",
    "        \"\"\"A nested array of vertex indices\"\"\"\n",
    "        do sth with self.vertices # self.vertices comes from CityModel"
   ],
   "metadata": {
    "collapsed": false,
    "pycharm": {
     "name": "#%% script false\n"
    }
   }
  },
  {
   "cell_type": "markdown",
   "source": [
    "However this is problematic in Python, because I want to have `__init__` methods for both CityModel and Boundary. While in the case above, `Boundary.__init__()` overrides `CityModel.__init__()`, making CityModel.vertices inaccessible (AttributeError) from the Boundary instances. Setting the vertices attribute outside `CityModel.__init__()` would require to instantiate a CityModel object in two steps, and would only work if vertices is not a property and there are `get_/set_vertices()` methods, which is not really pythonic. This is all because in Python everything is public. There are no real private attributes and methods as in C++.\n"
   ],
   "metadata": {
    "collapsed": false,
    "pycharm": {
     "name": "#%% md\n"
    }
   }
  },
  {
   "cell_type": "code",
   "execution_count": null,
   "outputs": [],
   "source": [
    "citymodel = CityModel(cityobjects)\n",
    "citymodel.set_vertices(vertices)"
   ],
   "metadata": {
    "collapsed": false,
    "pycharm": {
     "name": "#%% script false\n"
    }
   }
  },
  {
   "cell_type": "markdown",
   "source": [
    "Also, if Boundary is a subclass of CityModel, then Boundary gets all the methods, class attributes from CityModel. It just doesn't make sense to have a `get_cityobjects()` method in a Boundary instance... \n",
    "\n",
    "Finally, having a central vertex list would make it quite complicated to modify (esp. delete) boundaries, since on every delete, *all* the CityObjects and their boundaries would need to be traversed and the vertex indices updated.\n"
   ],
   "metadata": {
    "collapsed": false,
    "pycharm": {
     "name": "#%% md\n"
    }
   }
  },
  {
   "cell_type": "markdown",
   "source": [
    "### 2. Feature generation\n",
    "\n",
    "How do we operate with 3D geometry? Do we cast to something from some library that has 3D geom? Or just provide getters for the vertices?\n",
    "\n",
    "Python libraries with 3D geoms:\n",
    "\n",
    "+ [open3d](http://www.open3d.org/docs/python_api/open3d.geometry.Geometry3D.html#open3d.geometry.Geometry3D)\n",
    "\n",
    "#### Compute the volume of a building.\n"
   ],
   "metadata": {
    "collapsed": false,
    "pycharm": {
     "name": "#%% md\n"
    }
   }
  },
  {
   "cell_type": "code",
   "execution_count": null,
   "outputs": [],
   "source": [
    "class Geometry:\n",
    "    def __init__(self, co):\n",
    "        self.lod = co['geometry']['lod']\n",
    "        self.type = co['geometry']['type']\n",
    "        self.boundaries = self._get_boundary(co)\n",
    "    \n",
    "    def _get_geometry(self, co):\n",
    "        loop through co['geometry']['boundaries'] and get the vertex coordinates\n",
    "        return geometry sf style\n",
    "\n",
    "def compute_volume(geometry):\n",
    "    if geometry.boundaries is empty:\n",
    "        return 0\n",
    "    if geometry.lod < 2:\n",
    "        figure out what surface is what\n",
    "    else:\n",
    "        use the surface semantics \n",
    "    if geometry.type == 'Solid':\n",
    "        compute the volume\n",
    "    elif geometry.type == 'Point':\n",
    "        raise TypeError(\"Cannot compute the volume of Point geometry\")\n",
    "    return volume\n",
    "\n",
    "cm = cjio.load(\"some_model.json\")\n",
    "for building in cm.get_cityobjects(\"building\"):\n",
    "    # we need to check if the parent has geometry, but also if the child has geometry, because it is not prescribed how this should be\n",
    "    geometry = building.get_geometry()\n",
    "    volume_parent = compute_volume(geometry)\n",
    "    \n",
    "    for child in building.get_children():\n",
    "    # actually, we need to do this recursively in order to visit the children of children too, because it is\n",
    "    # not defined how many level deep we need to go\n",
    "        geometry = child.get_geometry()\n",
    "        volume_child = compute_volume(geometry)\n",
    "        \n",
    "    volume = volume_parent + volume_child"
   ],
   "metadata": {
    "collapsed": false,
    "pycharm": {
     "name": "#%%\n"
    }
   }
  },
  {
   "cell_type": "markdown",
   "source": [
    "Get shape descriptors from the footrpints\n",
    "\n",
    "Compute roof overhang as a distance between footprint and roofprint\n",
    "\n",
    "Compute roof levels and roof types\n",
    "\n",
    "(compare model to point cloud)\n",
    "\n",
    "**!!! the most important software feature here is to allow the users to easily integrate their own cityobject/geometry processing functions with cjio !!!**\n",
    "\n",
    "### 3. Export\n",
    "\n",
    "Save cityobject attributes in tabular format (eg. tsv)\n",
    "\n",
    "Save cityobject attributes in pandas dataframe\n",
    "\n",
    "### 4. ML\n",
    "\n",
    "Use the tabular output as input for scikit-learn (or any library). One can use `feather` to transport the objects to R."
   ],
   "metadata": {
    "collapsed": false,
    "pycharm": {
     "name": "#%% md\n"
    }
   }
  }
 ],
 "metadata": {
  "language_info": {
   "codemirror_mode": {
    "name": "ipython",
    "version": 2
   },
   "file_extension": ".py",
   "mimetype": "text/x-python",
   "name": "python",
   "nbconvert_exporter": "python",
   "pygments_lexer": "ipython2",
   "version": "2.7.6"
  },
  "kernelspec": {
   "name": "python3",
   "language": "python",
   "display_name": "Python 3"
  },
  "pycharm": {
   "stem_cell": {
    "cell_type": "raw",
    "source": [],
    "metadata": {
     "collapsed": false
    }
   }
  }
 },
 "nbformat": 4,
 "nbformat_minor": 0
}