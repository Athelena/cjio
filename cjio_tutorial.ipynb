{
 "cells": [
  {
   "cell_type": "markdown",
   "source": [
    "# cjio API tutorial\n",
    "\n",
    "In this tutorial we explore what is possible with `cjio`'s API. I refer to `cjio`'s command line interface as *CLI*.\n",
    "\n",
    "The CLI is what you use when you invoke `cjio` from the command line, such as:\n",
    "```\n",
    "$ cjio some_city_model.json validate\n",
    "```\n",
    "\n",
    "The API is what you use from `cjio` when working with a city model in a Python script."
   ],
   "metadata": {
    "collapsed": false,
    "pycharm": {
     "name": "#%% md\n"
    }
   }
  },
  {
   "cell_type": "code",
   "execution_count": 5,
   "metadata": {
    "collapsed": true,
    "pycharm": {
     "is_executing": false
    }
   },
   "outputs": [],
   "source": [
    "import os\n",
    "from copy import deepcopy\n",
    "from cjio import cityjson"
   ]
  },
  {
   "cell_type": "markdown",
   "source": [
    "Set up the paths for the tutorial."
   ],
   "metadata": {
    "collapsed": false,
    "pycharm": {
     "name": "#%% md\n"
    }
   }
  },
  {
   "cell_type": "code",
   "execution_count": 6,
   "outputs": [],
   "source": [
    "package_dir = os.path.dirname('.')\n",
    "schema_dir = os.path.join(package_dir, 'cjio', 'schemas', '1.0.0')\n",
    "data_dir = os.path.join(package_dir, 'example_data')"
   ],
   "metadata": {
    "collapsed": false,
    "pycharm": {
     "name": "#%%\n",
     "is_executing": false
    }
   }
  },
  {
   "cell_type": "markdown",
   "source": [
    "## Load the city model"
   ],
   "metadata": {
    "collapsed": false,
    "pycharm": {
     "name": "#%% md\n"
    }
   }
  },
  {
   "cell_type": "markdown",
   "source": [
    "We are working with a subset of the city model of Rotterdam. This file is included with `cjio` as an example data set. The `load()` method loads a CityJSON file into a CityJSON object."
   ],
   "metadata": {
    "collapsed": false,
    "pycharm": {
     "name": "#%% md\n"
    }
   }
  },
  {
   "cell_type": "code",
   "execution_count": 7,
   "outputs": [
    {
     "name": "stdout",
     "text": [
      "<class 'cjio.cityjson.CityJSON'>\n"
     ],
     "output_type": "stream"
    }
   ],
   "source": [
    "p_subset = os.path.join(data_dir, 'rotterdam', 'rotterdam_subset.json')\n",
    "# p_subset = os.path.join(data_dir, 'zurich', 'zurich_subset_lod2.json')\n",
    "cm_r = cityjson.load(p_subset)\n",
    "print(type(cm_r))"
   ],
   "metadata": {
    "collapsed": false,
    "pycharm": {
     "name": "#%%\n",
     "is_executing": false
    }
   }
  },
  {
   "cell_type": "markdown",
   "source": [
    "## Using the CLI commands in the API\n",
    "You can use any of the CLI commands on a CityJSON object. However, not all CLI commands are mapped 1-to-1 to CityJSON methods, plus you need to provide the parameters yourself, as for example in case of the `validate()` method. The reason for this is that the CLI commands are wrapper functions that take care of passing parameters and parsing outputs. And we haven't harmonized the CLI and the API yet. "
   ],
   "metadata": {
    "collapsed": false
   }
  },
  {
   "cell_type": "code",
   "execution_count": 17,
   "outputs": [
    {
     "name": "stdout",
     "text": [
      "-- Validating the syntax of the file\n\t(using the schemas cjio/schemas/1.0.0/cityjson.schema.json)\n",
      "-- Validating the internal consistency of the file (see docs for list)\n\t--Vertex indices coherent\n\t--Specific for CityGroups\n\t--Semantic arrays coherent with geometry\n\t--Root properties\n\t--Empty geometries\n\t--Duplicate vertices\n\t--Orphan vertices\n\t--CityGML attributes\n"
     ],
     "output_type": "stream"
    },
    {
     "data": {
      "text/plain": "(True,\n False,\n [],\n [\"WARNING: attributes 'TerrainHeight' not in CityGML schema\",\n  '\\t(16 CityObjects have this warning)',\n  \"WARNING: attributes 'bron_tex' not in CityGML schema\",\n  '\\t(16 CityObjects have this warning)',\n  \"WARNING: attributes 'voll_tex' not in CityGML schema\",\n  '\\t(16 CityObjects have this warning)',\n  \"WARNING: attributes 'bron_geo' not in CityGML schema\",\n  '\\t(16 CityObjects have this warning)',\n  \"WARNING: attributes 'status' not in CityGML schema\",\n  '\\t(16 CityObjects have this warning)'])"
     },
     "metadata": {},
     "output_type": "execute_result",
     "execution_count": 17
    }
   ],
   "source": [
    "cm_r.validate(folder_schemas=schema_dir)"
   ],
   "metadata": {
    "collapsed": false,
    "pycharm": {
     "name": "#%%\n",
     "is_executing": false
    }
   }
  },
  {
   "cell_type": "markdown",
   "source": [
    "## Explore the city model"
   ],
   "metadata": {
    "collapsed": false,
    "pycharm": {
     "name": "#%% md\n"
    }
   }
  },
  {
   "cell_type": "markdown",
   "source": [
    "We can print the basic information about the city model. Note that `print()` returns the same information as the `info` command in the CLI."
   ],
   "metadata": {
    "collapsed": false,
    "pycharm": {
     "name": "#%% md\n"
    }
   }
  },
  {
   "cell_type": "code",
   "execution_count": 6,
   "outputs": [
    {
     "name": "stdout",
     "text": [
      "{\n  \"cityjson_version\": \"1.0\",\n  \"epsg\": 28992,\n  \"cityobjects_total\": 16,\n  \"cityobjects_present\": [\n    \"Building\"\n  ],\n  \"vertices_total\": 383,\n  \"transform/compressed\": true,\n  \"geom_primitives_present\": [\n    \"MultiSurface\"\n  ],\n  \"materials\": false,\n  \"textures\": true\n}\n"
     ],
     "output_type": "stream"
    }
   ],
   "source": [
    "print(cm_r)"
   ],
   "metadata": {
    "collapsed": false,
    "pycharm": {
     "name": "#%%\n",
     "is_executing": false
    }
   }
  },
  {
   "cell_type": "markdown",
   "source": [
    "## Working with the objects in the model\n",
    "### Getting objects from the model"
   ],
   "metadata": {
    "collapsed": false,
    "pycharm": {
     "name": "#%% md\n"
    }
   }
  },
  {
   "cell_type": "code",
   "execution_count": 8,
   "outputs": [],
   "source": [
    "buildings = cm_r.get_cityobjects(type='building')\n",
    "buildings_parts = cm_r.get_cityobjects(type=['building', 'buildingpart'])\n",
    "\n",
    "r_ids = ['{C9D4A5CF-094A-47DA-97E4-4A3BFD75D3AE}',\n",
    "         '{6271F75F-E8D8-4EE4-AC46-9DB02771A031}']\n",
    "buildings_ids = cm_r.get_cityobjects(id=r_ids)"
   ],
   "metadata": {
    "collapsed": false,
    "pycharm": {
     "name": "#%%\n",
     "is_executing": false
    }
   }
  },
  {
   "cell_type": "markdown",
   "source": [
    "### Assigning attributes to Semantic Surfaces\n",
    "In order to change or assign an attribute to the SemanticSurfaces of a CityObject we need to,\n",
    "\n",
    "1. extract the surfaces,\n",
    "2. make the changes on the surface,\n",
    "3. overwrite the CityObjects with the changes."
   ],
   "metadata": {
    "collapsed": false,
    "pycharm": {
     "name": "#%% md\n"
    }
   }
  },
  {
   "cell_type": "code",
   "execution_count": null,
   "outputs": [],
   "source": [
    "cm = deepcopy(cm_r)\n",
    "new_cos = {}\n",
    "for co_id, co in cm.cityobjects.items():\n",
    "    new_geoms = []\n",
    "    for geom in co.geometry:\n",
    "        # Only LoD >= 2 models have semantic surfaces\n",
    "        if geom.lod >= 2.0:\n",
    "            # Extract the surfaces\n",
    "            roofsurfaces = geom.get_surfaces('roofsurface')\n",
    "            for i, rsrf in roofsurfaces.items():\n",
    "                # Change the attributes\n",
    "                if 'attributes' in rsrf.keys():\n",
    "                    rsrf['attributes']['cladding'] = 'tiles'\n",
    "                else:\n",
    "                    rsrf['attributes'] = {}\n",
    "                    rsrf['attributes']['cladding'] = 'tiles'\n",
    "                geom.surfaces[i] = rsrf\n",
    "            new_geoms.append(geom)\n",
    "        else:\n",
    "            # Use the unchanged geometry\n",
    "            new_geoms.append(geom)\n",
    "    co.geometry = new_geoms\n",
    "    new_cos[co_id] = co\n",
    "# Overwrite the CityObjects\n",
    "cm.cityobjects = new_cos"
   ],
   "metadata": {
    "collapsed": false,
    "pycharm": {
     "name": "#%%\n"
    }
   }
  },
  {
   "cell_type": "markdown",
   "source": [
    "## Save or Export\n",
    "At the end, the `save()` method saves the edited city model into a CityJSON file."
   ],
   "metadata": {
    "collapsed": false,
    "pycharm": {
     "name": "#%% md\n"
    }
   }
  },
  {
   "cell_type": "code",
   "execution_count": null,
   "outputs": [],
   "source": [
    "p_out = os.path.join(data_dir, 'test_output.json')\n",
    "cityjson.save(cm, p_out)\n",
    "\n"
   ],
   "metadata": {
    "collapsed": false,
    "pycharm": {
     "name": "#%%\n"
    }
   }
  }
 ],
 "metadata": {
  "language_info": {
   "codemirror_mode": {
    "name": "ipython",
    "version": 2
   },
   "file_extension": ".py",
   "mimetype": "text/x-python",
   "name": "python",
   "nbconvert_exporter": "python",
   "pygments_lexer": "ipython2",
   "version": "2.7.6"
  },
  "kernelspec": {
   "name": "python3",
   "language": "python",
   "display_name": "Python 3"
  },
  "pycharm": {
   "stem_cell": {
    "cell_type": "raw",
    "source": [],
    "metadata": {
     "collapsed": false
    }
   }
  }
 },
 "nbformat": 4,
 "nbformat_minor": 0
}