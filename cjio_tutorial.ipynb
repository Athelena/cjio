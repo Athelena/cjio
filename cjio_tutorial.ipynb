{
 "cells": [
  {
   "cell_type": "markdown",
   "source": [
    "# cjio API tutorial\n",
    "\n",
    "In this tutorial we explore what is possible with `cjio`'s API. I refer to `cjio`'s command line interface as *CLI*.\n",
    "\n",
    "The CLI is what you use when you invoke `cjio` from the command line, such as:\n",
    "```\n",
    "$ cjio some_city_model.json validate\n",
    "```\n",
    "\n",
    "The API is what you use from `cjio` when working with a city model in a Python script."
   ],
   "metadata": {
    "collapsed": false,
    "pycharm": {
     "name": "#%% md\n"
    }
   }
  },
  {
   "cell_type": "code",
   "execution_count": 1,
   "metadata": {
    "collapsed": true,
    "pycharm": {
     "is_executing": false
    }
   },
   "outputs": [],
   "source": [
    "import os\n",
    "from copy import deepcopy\n",
    "from cjio import cityjson"
   ]
  },
  {
   "cell_type": "markdown",
   "source": [
    "Set up the paths for the tutorial."
   ],
   "metadata": {
    "collapsed": false,
    "pycharm": {
     "name": "#%% md\n"
    }
   }
  },
  {
   "cell_type": "code",
   "execution_count": 2,
   "outputs": [],
   "source": [
    "package_dir = os.path.dirname('.')\n",
    "schema_dir = os.path.join(package_dir, 'cjio', 'schemas', '1.0.0')\n",
    "data_dir = os.path.join(package_dir, 'example_data')"
   ],
   "metadata": {
    "collapsed": false,
    "pycharm": {
     "name": "#%%\n",
     "is_executing": false
    }
   }
  },
  {
   "cell_type": "markdown",
   "source": [
    "## Load the city model"
   ],
   "metadata": {
    "collapsed": false,
    "pycharm": {
     "name": "#%% md\n"
    }
   }
  },
  {
   "cell_type": "markdown",
   "source": [
    "We are working with a subset of the city model of Rotterdam. This file is included with `cjio` as an example data set. The `load()` method loads a CityJSON file into a CityJSON object."
   ],
   "metadata": {
    "collapsed": false,
    "pycharm": {
     "name": "#%% md\n"
    }
   }
  },
  {
   "cell_type": "code",
   "execution_count": 3,
   "outputs": [
    {
     "name": "stdout",
     "text": [
      "<class 'cjio.cityjson.CityJSON'>\n"
     ],
     "output_type": "stream"
    }
   ],
   "source": [
    "p_subset = os.path.join(data_dir, 'rotterdam', 'rotterdam_subset.json')\n",
    "# p_subset = os.path.join(data_dir, 'zurich', 'zurich_subset_lod2.json')\n",
    "cm_r = cityjson.load(p_subset)\n",
    "print(type(cm_r))"
   ],
   "metadata": {
    "collapsed": false,
    "pycharm": {
     "name": "#%%\n",
     "is_executing": false
    }
   }
  },
  {
   "cell_type": "markdown",
   "source": [
    "## Using the CLI commands in the API\n",
    "You can use any of the CLI commands on a CityJSON object. However, not all CLI commands are mapped 1-to-1 to CityJSON methods, plus you need to provide the parameters yourself, as for example in case of the `validate()` method. The reason for this is that the CLI commands are wrapper functions that take care of passing parameters and parsing outputs. And we haven't harmonized the CLI and the API yet. "
   ],
   "metadata": {
    "collapsed": false
   }
  },
  {
   "cell_type": "code",
   "execution_count": 4,
   "outputs": [
    {
     "name": "stdout",
     "text": [
      "-- Validating the syntax of the file\n\t(using the schemas cjio/schemas/1.0.0/cityjson.schema.json)\n",
      "-- Validating the internal consistency of the file (see docs for list)\n\t--Vertex indices coherent\n\t--Specific for CityGroups\n\t--Semantic arrays coherent with geometry\n\t--Root properties\n\t--Empty geometries\n\t--Duplicate vertices\n\t--Orphan vertices\n\t--CityGML attributes\n"
     ],
     "output_type": "stream"
    },
    {
     "data": {
      "text/plain": "(True,\n False,\n [],\n [\"WARNING: attributes 'TerrainHeight' not in CityGML schema\",\n  '\\t(16 CityObjects have this warning)',\n  \"WARNING: attributes 'bron_tex' not in CityGML schema\",\n  '\\t(16 CityObjects have this warning)',\n  \"WARNING: attributes 'voll_tex' not in CityGML schema\",\n  '\\t(16 CityObjects have this warning)',\n  \"WARNING: attributes 'bron_geo' not in CityGML schema\",\n  '\\t(16 CityObjects have this warning)',\n  \"WARNING: attributes 'status' not in CityGML schema\",\n  '\\t(16 CityObjects have this warning)'])"
     },
     "metadata": {},
     "output_type": "execute_result",
     "execution_count": 4
    }
   ],
   "source": [
    "cm_r.validate(folder_schemas=schema_dir)"
   ],
   "metadata": {
    "collapsed": false,
    "pycharm": {
     "name": "#%%\n",
     "is_executing": false
    }
   }
  },
  {
   "cell_type": "markdown",
   "source": [
    "## Explore the city model"
   ],
   "metadata": {
    "collapsed": false,
    "pycharm": {
     "name": "#%% md\n"
    }
   }
  },
  {
   "cell_type": "markdown",
   "source": [
    "We can print the basic information about the city model. Note that `print()` returns the same information as the `info` command in the CLI."
   ],
   "metadata": {
    "collapsed": false,
    "pycharm": {
     "name": "#%% md\n"
    }
   }
  },
  {
   "cell_type": "code",
   "execution_count": 5,
   "outputs": [
    {
     "name": "stdout",
     "text": [
      "{\n  \"cityjson_version\": \"1.0\",\n  \"epsg\": 7415,\n  \"cityobjects_total\": 16,\n  \"cityobjects_present\": [\n    \"Building\"\n  ],\n  \"vertices_total\": 383,\n  \"transform/compressed\": true,\n  \"geom_primitives_present\": [\n    \"MultiSurface\"\n  ],\n  \"materials\": false,\n  \"textures\": true\n}\n"
     ],
     "output_type": "stream"
    }
   ],
   "source": [
    "print(cm_r)"
   ],
   "metadata": {
    "collapsed": false,
    "pycharm": {
     "name": "#%%\n",
     "is_executing": false
    }
   }
  },
  {
   "cell_type": "markdown",
   "source": [
    "## Working with the objects in the model\n",
    "### Getting objects from the model"
   ],
   "metadata": {
    "collapsed": false,
    "pycharm": {
     "name": "#%% md\n"
    }
   }
  },
  {
   "cell_type": "code",
   "execution_count": 6,
   "outputs": [],
   "source": [
    "buildings = cm_r.get_cityobjects(type='building')\n",
    "buildings_parts = cm_r.get_cityobjects(type=['building', 'buildingpart'])\n",
    "\n",
    "r_ids = ['{C9D4A5CF-094A-47DA-97E4-4A3BFD75D3AE}',\n",
    "         '{6271F75F-E8D8-4EE4-AC46-9DB02771A031}']\n",
    "buildings_ids = cm_r.get_cityobjects(id=r_ids)"
   ],
   "metadata": {
    "collapsed": false,
    "pycharm": {
     "name": "#%%\n",
     "is_executing": false
    }
   }
  },
  {
   "cell_type": "markdown",
   "source": [
    "### Assigning attributes to Semantic Surfaces\n",
    "In order to change or assign an attribute to the SemanticSurfaces of a CityObject we need to,\n",
    "\n",
    "1. extract the surfaces,\n",
    "2. make the changes on the surface,\n",
    "3. overwrite the CityObjects with the changes."
   ],
   "metadata": {
    "collapsed": false,
    "pycharm": {
     "name": "#%% md\n"
    }
   }
  },
  {
   "cell_type": "code",
   "execution_count": 7,
   "outputs": [],
   "source": [
    "cm = deepcopy(cm_r)\n",
    "new_cos = {}\n",
    "for co_id, co in cm.cityobjects.items():\n",
    "    new_geoms = []\n",
    "    for geom in co.geometry:\n",
    "        # Only LoD >= 2 models have semantic surfaces\n",
    "        if geom.lod >= 2.0:\n",
    "            # Extract the surfaces\n",
    "            roofsurfaces = geom.get_surfaces('roofsurface')\n",
    "            for i, rsrf in roofsurfaces.items():\n",
    "                # Change the attributes\n",
    "                if 'attributes' in rsrf.keys():\n",
    "                    rsrf['attributes']['cladding'] = 'tiles'\n",
    "                else:\n",
    "                    rsrf['attributes'] = {}\n",
    "                    rsrf['attributes']['cladding'] = 'tiles'\n",
    "                geom.surfaces[i] = rsrf\n",
    "            new_geoms.append(geom)\n",
    "        else:\n",
    "            # Use the unchanged geometry\n",
    "            new_geoms.append(geom)\n",
    "    co.geometry = new_geoms\n",
    "    new_cos[co_id] = co\n",
    "# Overwrite the CityObjects\n",
    "cm.cityobjects = new_cos"
   ],
   "metadata": {
    "collapsed": false,
    "pycharm": {
     "name": "#%%\n",
     "is_executing": false
    }
   }
  },
  {
   "cell_type": "markdown",
   "source": [
    "## Save or Export\n",
    "At the end, the `save()` method saves the edited city model into a CityJSON file."
   ],
   "metadata": {
    "collapsed": false,
    "pycharm": {
     "name": "#%% md\n"
    }
   }
  },
  {
   "cell_type": "code",
   "execution_count": 8,
   "outputs": [],
   "source": [
    "p_out = os.path.join(data_dir, 'test_output.json')\n",
    "cityjson.save(cm, p_out)"
   ],
   "metadata": {
    "collapsed": false,
    "pycharm": {
     "name": "#%%\n",
     "is_executing": false
    }
   }
  },
  {
   "cell_type": "markdown",
   "source": [
    "It is also possible to export the city model into a pandas DataFrame. Note that only the CityObject attributes are exported into the dataframe, with CityObject IDs as the index of the dataframe. Thus if you want to export the attributes of SemanticSurfaces for example, then you need to add them as CityObject attributes."
   ],
   "metadata": {
    "collapsed": false,
    "pycharm": {
     "name": "#%% md\n"
    }
   }
  },
  {
   "cell_type": "code",
   "execution_count": 10,
   "outputs": [
    {
     "data": {
      "text/plain": "                                        TerrainHeight  \\\n{C9D4A5CF-094A-47DA-97E4-4A3BFD75D3AE}           3.03   \n{71B60053-BC28-404D-BAB9-8A642AAC0CF4}           2.68   \n{6271F75F-E8D8-4EE4-AC46-9DB02771A031}           3.12   \n{DE77E78F-B110-43D2-A55C-8B61911192DE}           2.88   \n{19935DFC-F7B3-4D6E-92DD-C48EE1D1519A}           2.82   \n\n                                                              bron_geo  \\\n{C9D4A5CF-094A-47DA-97E4-4A3BFD75D3AE}  Lidar 15-30 punten - nov. 2008   \n{71B60053-BC28-404D-BAB9-8A642AAC0CF4}  Lidar 15-30 punten - nov. 2008   \n{6271F75F-E8D8-4EE4-AC46-9DB02771A031}  Lidar 15-30 punten - nov. 2008   \n{DE77E78F-B110-43D2-A55C-8B61911192DE}  Lidar 15-30 punten - nov. 2008   \n{19935DFC-F7B3-4D6E-92DD-C48EE1D1519A}  Lidar 15-30 punten - nov. 2008   \n\n                                                         bron_tex status  \\\n{C9D4A5CF-094A-47DA-97E4-4A3BFD75D3AE}  UltraCAM-X 10cm juni 2008      1   \n{71B60053-BC28-404D-BAB9-8A642AAC0CF4}  UltraCAM-X 10cm juni 2008      1   \n{6271F75F-E8D8-4EE4-AC46-9DB02771A031}  UltraCAM-X 10cm juni 2008      1   \n{DE77E78F-B110-43D2-A55C-8B61911192DE}  UltraCAM-X 10cm juni 2008      1   \n{19935DFC-F7B3-4D6E-92DD-C48EE1D1519A}  UltraCAM-X 10cm juni 2008      1   \n\n                                        voll_tex  \n{C9D4A5CF-094A-47DA-97E4-4A3BFD75D3AE}  complete  \n{71B60053-BC28-404D-BAB9-8A642AAC0CF4}  complete  \n{6271F75F-E8D8-4EE4-AC46-9DB02771A031}  complete  \n{DE77E78F-B110-43D2-A55C-8B61911192DE}  complete  \n{19935DFC-F7B3-4D6E-92DD-C48EE1D1519A}  complete  ",
      "text/html": "<div>\n<style scoped>\n    .dataframe tbody tr th:only-of-type {\n        vertical-align: middle;\n    }\n\n    .dataframe tbody tr th {\n        vertical-align: top;\n    }\n\n    .dataframe thead th {\n        text-align: right;\n    }\n</style>\n<table border=\"1\" class=\"dataframe\">\n  <thead>\n    <tr style=\"text-align: right;\">\n      <th></th>\n      <th>TerrainHeight</th>\n      <th>bron_geo</th>\n      <th>bron_tex</th>\n      <th>status</th>\n      <th>voll_tex</th>\n    </tr>\n  </thead>\n  <tbody>\n    <tr>\n      <th>{C9D4A5CF-094A-47DA-97E4-4A3BFD75D3AE}</th>\n      <td>3.03</td>\n      <td>Lidar 15-30 punten - nov. 2008</td>\n      <td>UltraCAM-X 10cm juni 2008</td>\n      <td>1</td>\n      <td>complete</td>\n    </tr>\n    <tr>\n      <th>{71B60053-BC28-404D-BAB9-8A642AAC0CF4}</th>\n      <td>2.68</td>\n      <td>Lidar 15-30 punten - nov. 2008</td>\n      <td>UltraCAM-X 10cm juni 2008</td>\n      <td>1</td>\n      <td>complete</td>\n    </tr>\n    <tr>\n      <th>{6271F75F-E8D8-4EE4-AC46-9DB02771A031}</th>\n      <td>3.12</td>\n      <td>Lidar 15-30 punten - nov. 2008</td>\n      <td>UltraCAM-X 10cm juni 2008</td>\n      <td>1</td>\n      <td>complete</td>\n    </tr>\n    <tr>\n      <th>{DE77E78F-B110-43D2-A55C-8B61911192DE}</th>\n      <td>2.88</td>\n      <td>Lidar 15-30 punten - nov. 2008</td>\n      <td>UltraCAM-X 10cm juni 2008</td>\n      <td>1</td>\n      <td>complete</td>\n    </tr>\n    <tr>\n      <th>{19935DFC-F7B3-4D6E-92DD-C48EE1D1519A}</th>\n      <td>2.82</td>\n      <td>Lidar 15-30 punten - nov. 2008</td>\n      <td>UltraCAM-X 10cm juni 2008</td>\n      <td>1</td>\n      <td>complete</td>\n    </tr>\n  </tbody>\n</table>\n</div>"
     },
     "metadata": {},
     "output_type": "execute_result",
     "execution_count": 10
    }
   ],
   "source": [
    "df = cm.to_dataframe()\n",
    "df.head()"
   ],
   "metadata": {
    "collapsed": false,
    "pycharm": {
     "name": "#%%\n",
     "is_executing": false
    }
   }
  },
  {
   "cell_type": "markdown",
   "source": [],
   "metadata": {
    "collapsed": false,
    "pycharm": {
     "name": "#%% md\n"
    }
   }
  }
 ],
 "metadata": {
  "language_info": {
   "codemirror_mode": {
    "name": "ipython",
    "version": 2
   },
   "file_extension": ".py",
   "mimetype": "text/x-python",
   "name": "python",
   "nbconvert_exporter": "python",
   "pygments_lexer": "ipython2",
   "version": "2.7.6"
  },
  "kernelspec": {
   "name": "python3",
   "language": "python",
   "display_name": "Python 3"
  },
  "pycharm": {
   "stem_cell": {
    "cell_type": "raw",
    "source": [],
    "metadata": {
     "collapsed": false
    }
   }
  }
 },
 "nbformat": 4,
 "nbformat_minor": 0
}